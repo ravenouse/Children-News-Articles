{
  "nbformat": 4,
  "nbformat_minor": 0,
  "metadata": {
    "colab": {
      "name": "Scrape_DOGO.ipnb",
      "provenance": [],
      "collapsed_sections": [
        "FQJKB2YAJRtf",
        "wOpoeqWIL9GJ",
        "qYAnhWpFaqer",
        "-DiKlMZkcd4N",
        "tDu2OoaQfjOJ"
      ],
      "authorship_tag": "ABX9TyNSz4XtQtCCIbLkPoVPiIb6"
    },
    "kernelspec": {
      "name": "python3",
      "display_name": "Python 3"
    },
    "language_info": {
      "name": "python"
    }
  },
  "cells": [
    {
      "cell_type": "code",
      "source": [
        "import requests\n",
        "\n",
        "from bs4 import BeautifulSoup\n",
        "\n",
        "import pandas as pd"
      ],
      "metadata": {
        "id": "vCuK_XJe_L9m"
      },
      "execution_count": null,
      "outputs": []
    },
    {
      "cell_type": "code",
      "source": [
        "from google.colab import drive\n",
        "drive.mount('/content/drive')"
      ],
      "metadata": {
        "id": "i7mtiHN25NY8"
      },
      "execution_count": null,
      "outputs": []
    },
    {
      "cell_type": "code",
      "execution_count": null,
      "metadata": {
        "id": "rDIYXAPu_FTo"
      },
      "outputs": [],
      "source": [
        "url = \"https://www.dogonews.com/grade-level/1\"\n",
        "page = requests.get(url)"
      ]
    },
    {
      "cell_type": "code",
      "source": [
        "print(page.status_code)"
      ],
      "metadata": {
        "colab": {
          "base_uri": "https://localhost:8080/"
        },
        "id": "2EhZlU_3_VMH",
        "outputId": "1a1c39a2-409c-440c-8298-ccb41c75ff39"
      },
      "execution_count": null,
      "outputs": [
        {
          "output_type": "stream",
          "name": "stdout",
          "text": [
            "200\n"
          ]
        }
      ]
    },
    {
      "cell_type": "code",
      "source": [
        "soup = BeautifulSoup(page.content, 'html.parser')\n",
        "print(soup.prettify())"
      ],
      "metadata": {
        "id": "EnCsRn2S_WrO"
      },
      "execution_count": null,
      "outputs": []
    },
    {
      "cell_type": "markdown",
      "source": [
        "## get links"
      ],
      "metadata": {
        "id": "ig5TiBYoBK6V"
      }
    },
    {
      "cell_type": "code",
      "source": [
        "links = soup.find_all('article', class_=\"NewsPost__StyledPost-sc-1fl2dnt-0 ehIiyq\")\n",
        "print(type(links))"
      ],
      "metadata": {
        "colab": {
          "base_uri": "https://localhost:8080/"
        },
        "id": "lHE8q_WS_YKE",
        "outputId": "7a1bc2f7-8e58-46c0-e454-f05d5eb353c3"
      },
      "execution_count": null,
      "outputs": [
        {
          "output_type": "stream",
          "name": "stdout",
          "text": [
            "<class 'bs4.element.ResultSet'>\n"
          ]
        }
      ]
    },
    {
      "cell_type": "code",
      "source": [
        "for link in links:\n",
        "  url = link.find('meta',itemprop=\"url\").get('content')\n",
        "  print(url)"
      ],
      "metadata": {
        "colab": {
          "base_uri": "https://localhost:8080/"
        },
        "id": "W_utdfFoAYmE",
        "outputId": "82939be8-d7c2-4f0d-a498-5885a27bfd37"
      },
      "execution_count": null,
      "outputs": [
        {
          "output_type": "stream",
          "name": "stdout",
          "text": [
            "https://www.dogonews.com/2021/12/8/westjets-2021-christmas-miracle-is-all-about-reuniting-loved-ones\n",
            "https://www.dogonews.com/2021/9/24/adorable-video-captures-black-bear-cubs-first-playground-slide-experience\n",
            "https://www.dogonews.com/2020/11/23/heartwarming-video-captures-gorilla-helping-injured-bird\n",
            "https://www.dogonews.com/2020/11/17/help-smithsonians-national-zoo-name-its-adorable-giant-panda-cub\n",
            "https://www.dogonews.com/2018/1/29/video-of-the-week-westjets-12-flights-of-children-inspired-christmas-miracles\n",
            "https://www.dogonews.com/2017/11/13/video-of-the-week-meet-serabie-a-lioness-who-loves-to-play-fetch\n"
          ]
        }
      ]
    },
    {
      "cell_type": "markdown",
      "source": [
        "## get content of one page"
      ],
      "metadata": {
        "id": "46BxHBSjBM6L"
      }
    },
    {
      "cell_type": "code",
      "source": [
        "url= \"https://www.dogonews.com/2021/12/8/westjets-2021-christmas-miracle-is-all-about-reuniting-loved-ones\"\n",
        "page= requests.get(url)"
      ],
      "metadata": {
        "id": "p078cLAjAnv6"
      },
      "execution_count": null,
      "outputs": []
    },
    {
      "cell_type": "code",
      "source": [
        "print(page.status_code)"
      ],
      "metadata": {
        "colab": {
          "base_uri": "https://localhost:8080/"
        },
        "id": "k7uWubf6DBbw",
        "outputId": "48a938e7-8406-4da9-c98a-4bb362ddbf3c"
      },
      "execution_count": null,
      "outputs": [
        {
          "output_type": "stream",
          "name": "stdout",
          "text": [
            "200\n"
          ]
        }
      ]
    },
    {
      "cell_type": "code",
      "source": [
        "soup = BeautifulSoup(page.content, 'html.parser')\n",
        "print(soup.prettify())"
      ],
      "metadata": {
        "id": "8ImPL4OaBj1p"
      },
      "execution_count": null,
      "outputs": []
    },
    {
      "cell_type": "code",
      "source": [
        "content = soup.find(\"div\",class_=\"responsive-body\")"
      ],
      "metadata": {
        "id": "rsiQyFGFBodD"
      },
      "execution_count": null,
      "outputs": []
    },
    {
      "cell_type": "code",
      "source": [
        "content_list = soup.find_all(\"p\",class_=\"tts-root\")"
      ],
      "metadata": {
        "id": "dxWwmyN4NCqm"
      },
      "execution_count": null,
      "outputs": []
    },
    {
      "cell_type": "code",
      "source": [
        "for n in content_list:\n",
        "  print(n)"
      ],
      "metadata": {
        "id": "SnEAfMGfNIEf"
      },
      "execution_count": null,
      "outputs": []
    },
    {
      "cell_type": "code",
      "source": [
        "print(content)"
      ],
      "metadata": {
        "colab": {
          "base_uri": "https://localhost:8080/"
        },
        "id": "gNriwlRdCUW3",
        "outputId": "f12b2ba6-1e64-4a98-8f1d-1af88704f7e9"
      },
      "execution_count": null,
      "outputs": [
        {
          "output_type": "stream",
          "name": "stdout",
          "text": [
            "None\n"
          ]
        }
      ]
    },
    {
      "cell_type": "code",
      "source": [
        "grab = [s.extract() for s in (content('figcaption') + content(\"p\",class_=\"news-resources\"))]"
      ],
      "metadata": {
        "id": "ZSn3oFSECW5U"
      },
      "execution_count": null,
      "outputs": []
    },
    {
      "cell_type": "code",
      "source": [
        "print(grab)"
      ],
      "metadata": {
        "colab": {
          "base_uri": "https://localhost:8080/"
        },
        "id": "CtU3MM8cMQjb",
        "outputId": "9c0af457-aebb-464f-fefd-3cdc7d20f2e4"
      },
      "execution_count": null,
      "outputs": [
        {
          "output_type": "stream",
          "name": "stdout",
          "text": [
            "[<figcaption>WestJet Airlines provides holiday cheer to hundreds of people every year ( Credit: WestJet.com)</figcaption>, <figcaption>WestJet employees handed out free airline tickets to help reunite families  (Credit: WestJet.com)</figcaption>, <p class=\"news-resources\">Resources: WestJet.com</p>]\n"
          ]
        }
      ]
    },
    {
      "cell_type": "code",
      "source": [
        "content_want = [p.extract() for p in content(\"p\",class_=\"tts-root\")]"
      ],
      "metadata": {
        "id": "xNhntjwaMTHk"
      },
      "execution_count": null,
      "outputs": []
    },
    {
      "cell_type": "code",
      "source": [
        "print(content_want)"
      ],
      "metadata": {
        "colab": {
          "base_uri": "https://localhost:8080/"
        },
        "id": "X_QMyRYDMoAp",
        "outputId": "546120c5-6e1d-4869-f8ea-6e7e32322ac4"
      },
      "execution_count": null,
      "outputs": [
        {
          "output_type": "stream",
          "name": "stdout",
          "text": [
            "[]\n"
          ]
        }
      ]
    },
    {
      "cell_type": "code",
      "source": [
        "content.text"
      ],
      "metadata": {
        "colab": {
          "base_uri": "https://localhost:8080/",
          "height": 182
        },
        "id": "Rbakx0lAGiBU",
        "outputId": "3e872139-bc2f-4f4d-b5c1-6b1b7ee752fb"
      },
      "execution_count": null,
      "outputs": [
        {
          "output_type": "execute_result",
          "data": {
            "text/plain": [
              "'   WestJet Airlines\\'  annual \"Christmas Miracle\" videos, which capture employees providing much-needed holiday cheer to those in need, are legendary. Past \"miracles\" include flying in gifts and snow to the Dominican Republic and hosting a holiday party for a town devastated by a forest fire. In 2020, WestJet employees delivered 12,000 care packages with essentials and gifts to families hurt by the COVID-19 pandemic.  This year, the company wants to reunite families for the holidays.    In the video, released on December 6, 2021, WestJet employees pose as documentary filmmakers. They ask unsuspecting passersby what Christmas tradition they missed the most in 2020.  Not surprisingly, for the majority, it was getting together with loved ones.  Following the \"interview,\" a WestJet employee, wearing the company\\'s signature blue Santa hat, emerges from the back with free airline tickets to their desired destination.  Be sure to have some tissues handy before you watch the tear-jerking footage!   '"
            ],
            "application/vnd.google.colaboratory.intrinsic+json": {
              "type": "string"
            }
          },
          "metadata": {},
          "execution_count": 75
        }
      ]
    },
    {
      "cell_type": "markdown",
      "source": [
        "## find title"
      ],
      "metadata": {
        "id": "c7rF8wTZGyLo"
      }
    },
    {
      "cell_type": "code",
      "source": [
        "title = soup.find(\"title\").text"
      ],
      "metadata": {
        "id": "RelkF8YtGjzD"
      },
      "execution_count": null,
      "outputs": []
    },
    {
      "cell_type": "code",
      "source": [
        "print(title)"
      ],
      "metadata": {
        "colab": {
          "base_uri": "https://localhost:8080/"
        },
        "id": "pMlqyDQGG-sy",
        "outputId": "f38fba2e-ef4d-47ad-b8c3-7e74f0c17332"
      },
      "execution_count": null,
      "outputs": [
        {
          "output_type": "stream",
          "name": "stdout",
          "text": [
            "WestJet's 2021 Christmas Miracle Is All About Reuniting Loved Ones Kids News Article\n"
          ]
        }
      ]
    },
    {
      "cell_type": "markdown",
      "source": [
        "## loop"
      ],
      "metadata": {
        "id": "ooWjrxlKHqPs"
      }
    },
    {
      "cell_type": "code",
      "source": [
        "import bs4.element"
      ],
      "metadata": {
        "id": "fYLIhBpQJgFG"
      },
      "execution_count": null,
      "outputs": []
    },
    {
      "cell_type": "code",
      "source": [
        "url = \"https://www.dogonews.com/grade-level/1/\"\n",
        "for n in range(1,25):\n",
        "  url_n = url+'page/'+str(n)+'/'\n",
        "  print(url_n)"
      ],
      "metadata": {
        "colab": {
          "base_uri": "https://localhost:8080/"
        },
        "id": "CS8Ne_GxHCfN",
        "outputId": "a3851fb7-7556-42b7-bc35-412ba437b5db"
      },
      "execution_count": null,
      "outputs": [
        {
          "output_type": "stream",
          "name": "stdout",
          "text": [
            "https://www.dogonews.com/grade-level/1/page/1/\n",
            "https://www.dogonews.com/grade-level/1/page/2/\n",
            "https://www.dogonews.com/grade-level/1/page/3/\n",
            "https://www.dogonews.com/grade-level/1/page/4/\n",
            "https://www.dogonews.com/grade-level/1/page/5/\n",
            "https://www.dogonews.com/grade-level/1/page/6/\n",
            "https://www.dogonews.com/grade-level/1/page/7/\n",
            "https://www.dogonews.com/grade-level/1/page/8/\n",
            "https://www.dogonews.com/grade-level/1/page/9/\n",
            "https://www.dogonews.com/grade-level/1/page/10/\n",
            "https://www.dogonews.com/grade-level/1/page/11/\n",
            "https://www.dogonews.com/grade-level/1/page/12/\n",
            "https://www.dogonews.com/grade-level/1/page/13/\n",
            "https://www.dogonews.com/grade-level/1/page/14/\n",
            "https://www.dogonews.com/grade-level/1/page/15/\n",
            "https://www.dogonews.com/grade-level/1/page/16/\n",
            "https://www.dogonews.com/grade-level/1/page/17/\n",
            "https://www.dogonews.com/grade-level/1/page/18/\n",
            "https://www.dogonews.com/grade-level/1/page/19/\n",
            "https://www.dogonews.com/grade-level/1/page/20/\n",
            "https://www.dogonews.com/grade-level/1/page/21/\n",
            "https://www.dogonews.com/grade-level/1/page/22/\n",
            "https://www.dogonews.com/grade-level/1/page/23/\n",
            "https://www.dogonews.com/grade-level/1/page/24/\n"
          ]
        }
      ]
    },
    {
      "cell_type": "code",
      "source": [
        "def get_links(url):\n",
        "  soup = BeautifulSoup(requests.get(url).content, 'html.parser')\n",
        "  links = soup.find_all('article', class_=\"NewsPost__StyledPost-sc-1fl2dnt-0 ehIiyq\")\n",
        "  url_list =[]\n",
        "  for link in links:\n",
        "    url = link.find('a').get('href')\n",
        "    url_list.append(url)\n",
        "  return url_list"
      ],
      "metadata": {
        "id": "VJoO_GD0IOxS"
      },
      "execution_count": null,
      "outputs": []
    },
    {
      "cell_type": "code",
      "source": [
        "def scrap_pages(list,pages):\n",
        "  for url in pages:\n",
        "    page = requests.get(url)\n",
        "    soup = BeautifulSoup(page.content, 'html.parser')\n",
        "    \n",
        "    content_raw = soup.find(\"div\",class_=\"responsive-body\")\n",
        "    if isinstance(content_raw,bs4.element.Tag):\n",
        "       grab = [s.extract() for s in (content_raw('figcaption') + content_raw(\"p\",class_=\"news-resources\"))]\n",
        "       content = content_raw.text\n",
        "       print(content)\n",
        "    else:\n",
        "      content ='NONE'\n",
        "      print(\"SKIP CONTENT FOR THIS PAGE\")\n",
        "    \n",
        "    # topics = soup.find('ul',class_ = \"article-show__content-sections\")\n",
        "    # if isinstance(topics,bs4.element.Tag):\n",
        "    #   topic =set(n.get_text() for n in topics.find_all('a'))\n",
        "    # else:\n",
        "    #   topic =set('NONE')\n",
        "    #   print(\"SKIP TOPIC FOR THIS PAGE\")\n",
        "      \n",
        "    title_raw= soup.find(\"title\")\n",
        "    if isinstance(title_raw,bs4.element.Tag):\n",
        "      title =title_raw.get_text()\n",
        "      print(title)\n",
        "    else:\n",
        "      title ='NONE'\n",
        "      print(\"SKIP TOPIC FOR THIS PAGE\")\n",
        "\n",
        "    # print(topic)\n",
        "    # print(content)\n",
        "    result_list = []\n",
        "    result_list.append(title)\n",
        "    # result_list.append(topic)\n",
        "    result_list.append(content)\n",
        "    list.append(result_list)"
      ],
      "metadata": {
        "id": "xl48sKV9IkO9"
      },
      "execution_count": null,
      "outputs": []
    },
    {
      "cell_type": "code",
      "source": [
        "def crawling(mainsite,page_num,result_list):\n",
        "  for n in range(1,page_num+1):\n",
        "    url_n = mainsite+'page/'+str(n)+'/'\n",
        "    print(url_n)\n",
        "    url_links = get_links(url_n)\n",
        "    scrap_pages(result_list,url_links)"
      ],
      "metadata": {
        "id": "GJoXcxf-JI1C"
      },
      "execution_count": null,
      "outputs": []
    },
    {
      "cell_type": "code",
      "source": [
        "def save_result(result,path):\n",
        "  df = pd.DataFrame(result)\n",
        "  df.to_csv(path)"
      ],
      "metadata": {
        "id": "lXvb_h83fpAe"
      },
      "execution_count": null,
      "outputs": []
    },
    {
      "cell_type": "markdown",
      "source": [
        "##g1"
      ],
      "metadata": {
        "id": "FQJKB2YAJRtf"
      }
    },
    {
      "cell_type": "code",
      "source": [
        "mainsite = \"https://www.dogonews.com/grade-level/1/\"\n",
        "result =[]\n",
        "crawling(mainsite,30,result)"
      ],
      "metadata": {
        "id": "XlC04WVyJRXU"
      },
      "execution_count": null,
      "outputs": []
    },
    {
      "cell_type": "code",
      "source": [
        "print(len(result))"
      ],
      "metadata": {
        "colab": {
          "base_uri": "https://localhost:8080/"
        },
        "id": "rd7hiU97JQRO",
        "outputId": "34f1f99e-8542-4d79-9386-b846f28b1a44"
      },
      "execution_count": null,
      "outputs": [
        {
          "output_type": "stream",
          "name": "stdout",
          "text": [
            "174\n"
          ]
        }
      ]
    },
    {
      "cell_type": "code",
      "source": [
        "import pandas as pd\n",
        "g1_df = pd.DataFrame(result)"
      ],
      "metadata": {
        "id": "x6yVE8gqJ1gF"
      },
      "execution_count": null,
      "outputs": []
    },
    {
      "cell_type": "code",
      "source": [
        "g1_path = '/content/drive/MyDrive/GODO_g1.csv'\n",
        "g1_df.to_csv(g1_path)"
      ],
      "metadata": {
        "id": "iADkiYWhKj8k"
      },
      "execution_count": null,
      "outputs": []
    },
    {
      "cell_type": "markdown",
      "source": [
        "##g2"
      ],
      "metadata": {
        "id": "wOpoeqWIL9GJ"
      }
    },
    {
      "cell_type": "code",
      "source": [
        "mainsite = \"https://www.dogonews.com/grade-level/2/\"\n",
        "result =[]\n",
        "crawling(mainsite,30,result)"
      ],
      "metadata": {
        "id": "qFXjK1MgL8fi"
      },
      "execution_count": null,
      "outputs": []
    },
    {
      "cell_type": "code",
      "source": [
        "print(len(result))"
      ],
      "metadata": {
        "colab": {
          "base_uri": "https://localhost:8080/"
        },
        "id": "ARZ4CAziQ6ai",
        "outputId": "b90e4e15-0957-45b8-b05b-374364250f34"
      },
      "execution_count": null,
      "outputs": [
        {
          "output_type": "stream",
          "name": "stdout",
          "text": [
            "180\n"
          ]
        }
      ]
    },
    {
      "cell_type": "code",
      "source": [
        "g2_df = pd.DataFrame(result)\n",
        "g2_path = '/content/drive/MyDrive/GODO_g2.csv'\n",
        "g2_df.to_csv(g2_path)"
      ],
      "metadata": {
        "id": "9RrSmInoQ8ww"
      },
      "execution_count": null,
      "outputs": []
    },
    {
      "cell_type": "markdown",
      "source": [
        "## g3"
      ],
      "metadata": {
        "id": "qYAnhWpFaqer"
      }
    },
    {
      "cell_type": "code",
      "source": [
        "mainsite = \"https://www.dogonews.com/grade-level/3/\"\n",
        "result =[]\n",
        "crawling(mainsite,40,result)"
      ],
      "metadata": {
        "id": "U1xjauhoaqIm"
      },
      "execution_count": null,
      "outputs": []
    },
    {
      "cell_type": "code",
      "source": [
        "print(len(result))"
      ],
      "metadata": {
        "colab": {
          "base_uri": "https://localhost:8080/"
        },
        "id": "VEAm3TqiRIHg",
        "outputId": "6c2fdbf5-0c41-4cb5-f9c8-d2992abcd00e"
      },
      "execution_count": null,
      "outputs": [
        {
          "output_type": "stream",
          "name": "stdout",
          "text": [
            "240\n"
          ]
        }
      ]
    },
    {
      "cell_type": "code",
      "source": [
        "g3_df = pd.DataFrame(result)\n",
        "g3_path = '/content/drive/MyDrive/GODO_g3.csv'\n",
        "g3_df.to_csv(g3_path)"
      ],
      "metadata": {
        "id": "Sysl99Bpb-Ui"
      },
      "execution_count": null,
      "outputs": []
    },
    {
      "cell_type": "markdown",
      "source": [
        "## g4"
      ],
      "metadata": {
        "id": "-DiKlMZkcd4N"
      }
    },
    {
      "cell_type": "code",
      "source": [
        "mainsite = \"https://www.dogonews.com/grade-level/4/\"\n",
        "result =[]\n",
        "crawling(mainsite,40,result)"
      ],
      "metadata": {
        "id": "wpXtfmpScCm8"
      },
      "execution_count": null,
      "outputs": []
    },
    {
      "cell_type": "code",
      "source": [
        "print(len(result))"
      ],
      "metadata": {
        "colab": {
          "base_uri": "https://localhost:8080/"
        },
        "id": "0ycsgGKmckwB",
        "outputId": "1d2ccd8e-31b2-4fae-cdaa-c38d2f4617fd"
      },
      "execution_count": null,
      "outputs": [
        {
          "output_type": "stream",
          "name": "stdout",
          "text": [
            "240\n"
          ]
        }
      ]
    },
    {
      "cell_type": "code",
      "source": [
        "g4_df = pd.DataFrame(result)\n",
        "g4_path = '/content/drive/MyDrive/GODO_g4.csv'\n",
        "g4_df.to_csv(g4_path)"
      ],
      "metadata": {
        "id": "TV4scb12eP39"
      },
      "execution_count": null,
      "outputs": []
    },
    {
      "cell_type": "markdown",
      "source": [
        "## g5"
      ],
      "metadata": {
        "id": "tDu2OoaQfjOJ"
      }
    },
    {
      "cell_type": "code",
      "source": [
        "mainsite = \"https://www.dogonews.com/grade-level/5/\"\n",
        "result =[]\n",
        "crawling(mainsite,40,result)"
      ],
      "metadata": {
        "id": "i-rlzCyCfirK"
      },
      "execution_count": null,
      "outputs": []
    },
    {
      "cell_type": "code",
      "source": [
        "print(len(result))"
      ],
      "metadata": {
        "colab": {
          "base_uri": "https://localhost:8080/"
        },
        "id": "sndewy_qgw-7",
        "outputId": "39828550-2b2f-4085-ceb8-72062244d0ea"
      },
      "execution_count": null,
      "outputs": [
        {
          "output_type": "stream",
          "name": "stdout",
          "text": [
            "240\n"
          ]
        }
      ]
    },
    {
      "cell_type": "code",
      "source": [
        "save_result(result,'/content/drive/MyDrive/GODO_g5.csv')"
      ],
      "metadata": {
        "id": "qQ3cezl_eUMD"
      },
      "execution_count": null,
      "outputs": []
    },
    {
      "cell_type": "markdown",
      "source": [
        "## g6"
      ],
      "metadata": {
        "id": "FSFZygA5hClc"
      }
    },
    {
      "cell_type": "code",
      "source": [
        "mainsite = \"https://www.dogonews.com/grade-level/6/\"\n",
        "result =[]\n",
        "crawling(mainsite,40,result)"
      ],
      "metadata": {
        "id": "xlH60ey-gzEe"
      },
      "execution_count": null,
      "outputs": []
    },
    {
      "cell_type": "code",
      "source": [
        "print(len(result))"
      ],
      "metadata": {
        "colab": {
          "base_uri": "https://localhost:8080/"
        },
        "id": "zPFOR-Kmh3e5",
        "outputId": "105ea014-3e57-4712-e522-13dab465b6b0"
      },
      "execution_count": null,
      "outputs": [
        {
          "output_type": "stream",
          "name": "stdout",
          "text": [
            "240\n"
          ]
        }
      ]
    },
    {
      "cell_type": "code",
      "source": [
        "save_result(result,'/content/drive/MyDrive/GODO_g6.csv')"
      ],
      "metadata": {
        "id": "2cg9RPgyhE3F"
      },
      "execution_count": null,
      "outputs": []
    }
  ]
}